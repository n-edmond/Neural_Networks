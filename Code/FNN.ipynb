{
  "nbformat": 4,
  "nbformat_minor": 0,
  "metadata": {
    "colab": {
      "name": "Copy of Untitled0.ipynb",
      "provenance": [],
      "collapsed_sections": []
    },
    "kernelspec": {
      "name": "python3",
      "display_name": "Python 3"
    },
    "language_info": {
      "name": "python"
    }
  },
  "cells": [
    {
      "cell_type": "code",
      "metadata": {
        "colab": {
          "resources": {
            "http://localhost:8080/nbextensions/google.colab/files.js": {
              "data": "Ly8gQ29weXJpZ2h0IDIwMTcgR29vZ2xlIExMQwovLwovLyBMaWNlbnNlZCB1bmRlciB0aGUgQXBhY2hlIExpY2Vuc2UsIFZlcnNpb24gMi4wICh0aGUgIkxpY2Vuc2UiKTsKLy8geW91IG1heSBub3QgdXNlIHRoaXMgZmlsZSBleGNlcHQgaW4gY29tcGxpYW5jZSB3aXRoIHRoZSBMaWNlbnNlLgovLyBZb3UgbWF5IG9idGFpbiBhIGNvcHkgb2YgdGhlIExpY2Vuc2UgYXQKLy8KLy8gICAgICBodHRwOi8vd3d3LmFwYWNoZS5vcmcvbGljZW5zZXMvTElDRU5TRS0yLjAKLy8KLy8gVW5sZXNzIHJlcXVpcmVkIGJ5IGFwcGxpY2FibGUgbGF3IG9yIGFncmVlZCB0byBpbiB3cml0aW5nLCBzb2Z0d2FyZQovLyBkaXN0cmlidXRlZCB1bmRlciB0aGUgTGljZW5zZSBpcyBkaXN0cmlidXRlZCBvbiBhbiAiQVMgSVMiIEJBU0lTLAovLyBXSVRIT1VUIFdBUlJBTlRJRVMgT1IgQ09ORElUSU9OUyBPRiBBTlkgS0lORCwgZWl0aGVyIGV4cHJlc3Mgb3IgaW1wbGllZC4KLy8gU2VlIHRoZSBMaWNlbnNlIGZvciB0aGUgc3BlY2lmaWMgbGFuZ3VhZ2UgZ292ZXJuaW5nIHBlcm1pc3Npb25zIGFuZAovLyBsaW1pdGF0aW9ucyB1bmRlciB0aGUgTGljZW5zZS4KCi8qKgogKiBAZmlsZW92ZXJ2aWV3IEhlbHBlcnMgZm9yIGdvb2dsZS5jb2xhYiBQeXRob24gbW9kdWxlLgogKi8KKGZ1bmN0aW9uKHNjb3BlKSB7CmZ1bmN0aW9uIHNwYW4odGV4dCwgc3R5bGVBdHRyaWJ1dGVzID0ge30pIHsKICBjb25zdCBlbGVtZW50ID0gZG9jdW1lbnQuY3JlYXRlRWxlbWVudCgnc3BhbicpOwogIGVsZW1lbnQudGV4dENvbnRlbnQgPSB0ZXh0OwogIGZvciAoY29uc3Qga2V5IG9mIE9iamVjdC5rZXlzKHN0eWxlQXR0cmlidXRlcykpIHsKICAgIGVsZW1lbnQuc3R5bGVba2V5XSA9IHN0eWxlQXR0cmlidXRlc1trZXldOwogIH0KICByZXR1cm4gZWxlbWVudDsKfQoKLy8gTWF4IG51bWJlciBvZiBieXRlcyB3aGljaCB3aWxsIGJlIHVwbG9hZGVkIGF0IGEgdGltZS4KY29uc3QgTUFYX1BBWUxPQURfU0laRSA9IDEwMCAqIDEwMjQ7CgpmdW5jdGlvbiBfdXBsb2FkRmlsZXMoaW5wdXRJZCwgb3V0cHV0SWQpIHsKICBjb25zdCBzdGVwcyA9IHVwbG9hZEZpbGVzU3RlcChpbnB1dElkLCBvdXRwdXRJZCk7CiAgY29uc3Qgb3V0cHV0RWxlbWVudCA9IGRvY3VtZW50LmdldEVsZW1lbnRCeUlkKG91dHB1dElkKTsKICAvLyBDYWNoZSBzdGVwcyBvbiB0aGUgb3V0cHV0RWxlbWVudCB0byBtYWtlIGl0IGF2YWlsYWJsZSBmb3IgdGhlIG5leHQgY2FsbAogIC8vIHRvIHVwbG9hZEZpbGVzQ29udGludWUgZnJvbSBQeXRob24uCiAgb3V0cHV0RWxlbWVudC5zdGVwcyA9IHN0ZXBzOwoKICByZXR1cm4gX3VwbG9hZEZpbGVzQ29udGludWUob3V0cHV0SWQpOwp9CgovLyBUaGlzIGlzIHJvdWdobHkgYW4gYXN5bmMgZ2VuZXJhdG9yIChub3Qgc3VwcG9ydGVkIGluIHRoZSBicm93c2VyIHlldCksCi8vIHdoZXJlIHRoZXJlIGFyZSBtdWx0aXBsZSBhc3luY2hyb25vdXMgc3RlcHMgYW5kIHRoZSBQeXRob24gc2lkZSBpcyBnb2luZwovLyB0byBwb2xsIGZvciBjb21wbGV0aW9uIG9mIGVhY2ggc3RlcC4KLy8gVGhpcyB1c2VzIGEgUHJvbWlzZSB0byBibG9jayB0aGUgcHl0aG9uIHNpZGUgb24gY29tcGxldGlvbiBvZiBlYWNoIHN0ZXAsCi8vIHRoZW4gcGFzc2VzIHRoZSByZXN1bHQgb2YgdGhlIHByZXZpb3VzIHN0ZXAgYXMgdGhlIGlucHV0IHRvIHRoZSBuZXh0IHN0ZXAuCmZ1bmN0aW9uIF91cGxvYWRGaWxlc0NvbnRpbnVlKG91dHB1dElkKSB7CiAgY29uc3Qgb3V0cHV0RWxlbWVudCA9IGRvY3VtZW50LmdldEVsZW1lbnRCeUlkKG91dHB1dElkKTsKICBjb25zdCBzdGVwcyA9IG91dHB1dEVsZW1lbnQuc3RlcHM7CgogIGNvbnN0IG5leHQgPSBzdGVwcy5uZXh0KG91dHB1dEVsZW1lbnQubGFzdFByb21pc2VWYWx1ZSk7CiAgcmV0dXJuIFByb21pc2UucmVzb2x2ZShuZXh0LnZhbHVlLnByb21pc2UpLnRoZW4oKHZhbHVlKSA9PiB7CiAgICAvLyBDYWNoZSB0aGUgbGFzdCBwcm9taXNlIHZhbHVlIHRvIG1ha2UgaXQgYXZhaWxhYmxlIHRvIHRoZSBuZXh0CiAgICAvLyBzdGVwIG9mIHRoZSBnZW5lcmF0b3IuCiAgICBvdXRwdXRFbGVtZW50Lmxhc3RQcm9taXNlVmFsdWUgPSB2YWx1ZTsKICAgIHJldHVybiBuZXh0LnZhbHVlLnJlc3BvbnNlOwogIH0pOwp9CgovKioKICogR2VuZXJhdG9yIGZ1bmN0aW9uIHdoaWNoIGlzIGNhbGxlZCBiZXR3ZWVuIGVhY2ggYXN5bmMgc3RlcCBvZiB0aGUgdXBsb2FkCiAqIHByb2Nlc3MuCiAqIEBwYXJhbSB7c3RyaW5nfSBpbnB1dElkIEVsZW1lbnQgSUQgb2YgdGhlIGlucHV0IGZpbGUgcGlja2VyIGVsZW1lbnQuCiAqIEBwYXJhbSB7c3RyaW5nfSBvdXRwdXRJZCBFbGVtZW50IElEIG9mIHRoZSBvdXRwdXQgZGlzcGxheS4KICogQHJldHVybiB7IUl0ZXJhYmxlPCFPYmplY3Q+fSBJdGVyYWJsZSBvZiBuZXh0IHN0ZXBzLgogKi8KZnVuY3Rpb24qIHVwbG9hZEZpbGVzU3RlcChpbnB1dElkLCBvdXRwdXRJZCkgewogIGNvbnN0IGlucHV0RWxlbWVudCA9IGRvY3VtZW50LmdldEVsZW1lbnRCeUlkKGlucHV0SWQpOwogIGlucHV0RWxlbWVudC5kaXNhYmxlZCA9IGZhbHNlOwoKICBjb25zdCBvdXRwdXRFbGVtZW50ID0gZG9jdW1lbnQuZ2V0RWxlbWVudEJ5SWQob3V0cHV0SWQpOwogIG91dHB1dEVsZW1lbnQuaW5uZXJIVE1MID0gJyc7CgogIGNvbnN0IHBpY2tlZFByb21pc2UgPSBuZXcgUHJvbWlzZSgocmVzb2x2ZSkgPT4gewogICAgaW5wdXRFbGVtZW50LmFkZEV2ZW50TGlzdGVuZXIoJ2NoYW5nZScsIChlKSA9PiB7CiAgICAgIHJlc29sdmUoZS50YXJnZXQuZmlsZXMpOwogICAgfSk7CiAgfSk7CgogIGNvbnN0IGNhbmNlbCA9IGRvY3VtZW50LmNyZWF0ZUVsZW1lbnQoJ2J1dHRvbicpOwogIGlucHV0RWxlbWVudC5wYXJlbnRFbGVtZW50LmFwcGVuZENoaWxkKGNhbmNlbCk7CiAgY2FuY2VsLnRleHRDb250ZW50ID0gJ0NhbmNlbCB1cGxvYWQnOwogIGNvbnN0IGNhbmNlbFByb21pc2UgPSBuZXcgUHJvbWlzZSgocmVzb2x2ZSkgPT4gewogICAgY2FuY2VsLm9uY2xpY2sgPSAoKSA9PiB7CiAgICAgIHJlc29sdmUobnVsbCk7CiAgICB9OwogIH0pOwoKICAvLyBXYWl0IGZvciB0aGUgdXNlciB0byBwaWNrIHRoZSBmaWxlcy4KICBjb25zdCBmaWxlcyA9IHlpZWxkIHsKICAgIHByb21pc2U6IFByb21pc2UucmFjZShbcGlja2VkUHJvbWlzZSwgY2FuY2VsUHJvbWlzZV0pLAogICAgcmVzcG9uc2U6IHsKICAgICAgYWN0aW9uOiAnc3RhcnRpbmcnLAogICAgfQogIH07CgogIGNhbmNlbC5yZW1vdmUoKTsKCiAgLy8gRGlzYWJsZSB0aGUgaW5wdXQgZWxlbWVudCBzaW5jZSBmdXJ0aGVyIHBpY2tzIGFyZSBub3QgYWxsb3dlZC4KICBpbnB1dEVsZW1lbnQuZGlzYWJsZWQgPSB0cnVlOwoKICBpZiAoIWZpbGVzKSB7CiAgICByZXR1cm4gewogICAgICByZXNwb25zZTogewogICAgICAgIGFjdGlvbjogJ2NvbXBsZXRlJywKICAgICAgfQogICAgfTsKICB9CgogIGZvciAoY29uc3QgZmlsZSBvZiBmaWxlcykgewogICAgY29uc3QgbGkgPSBkb2N1bWVudC5jcmVhdGVFbGVtZW50KCdsaScpOwogICAgbGkuYXBwZW5kKHNwYW4oZmlsZS5uYW1lLCB7Zm9udFdlaWdodDogJ2JvbGQnfSkpOwogICAgbGkuYXBwZW5kKHNwYW4oCiAgICAgICAgYCgke2ZpbGUudHlwZSB8fCAnbi9hJ30pIC0gJHtmaWxlLnNpemV9IGJ5dGVzLCBgICsKICAgICAgICBgbGFzdCBtb2RpZmllZDogJHsKICAgICAgICAgICAgZmlsZS5sYXN0TW9kaWZpZWREYXRlID8gZmlsZS5sYXN0TW9kaWZpZWREYXRlLnRvTG9jYWxlRGF0ZVN0cmluZygpIDoKICAgICAgICAgICAgICAgICAgICAgICAgICAgICAgICAgICAgJ24vYSd9IC0gYCkpOwogICAgY29uc3QgcGVyY2VudCA9IHNwYW4oJzAlIGRvbmUnKTsKICAgIGxpLmFwcGVuZENoaWxkKHBlcmNlbnQpOwoKICAgIG91dHB1dEVsZW1lbnQuYXBwZW5kQ2hpbGQobGkpOwoKICAgIGNvbnN0IGZpbGVEYXRhUHJvbWlzZSA9IG5ldyBQcm9taXNlKChyZXNvbHZlKSA9PiB7CiAgICAgIGNvbnN0IHJlYWRlciA9IG5ldyBGaWxlUmVhZGVyKCk7CiAgICAgIHJlYWRlci5vbmxvYWQgPSAoZSkgPT4gewogICAgICAgIHJlc29sdmUoZS50YXJnZXQucmVzdWx0KTsKICAgICAgfTsKICAgICAgcmVhZGVyLnJlYWRBc0FycmF5QnVmZmVyKGZpbGUpOwogICAgfSk7CiAgICAvLyBXYWl0IGZvciB0aGUgZGF0YSB0byBiZSByZWFkeS4KICAgIGxldCBmaWxlRGF0YSA9IHlpZWxkIHsKICAgICAgcHJvbWlzZTogZmlsZURhdGFQcm9taXNlLAogICAgICByZXNwb25zZTogewogICAgICAgIGFjdGlvbjogJ2NvbnRpbnVlJywKICAgICAgfQogICAgfTsKCiAgICAvLyBVc2UgYSBjaHVua2VkIHNlbmRpbmcgdG8gYXZvaWQgbWVzc2FnZSBzaXplIGxpbWl0cy4gU2VlIGIvNjIxMTU2NjAuCiAgICBsZXQgcG9zaXRpb24gPSAwOwogICAgd2hpbGUgKHBvc2l0aW9uIDwgZmlsZURhdGEuYnl0ZUxlbmd0aCkgewogICAgICBjb25zdCBsZW5ndGggPSBNYXRoLm1pbihmaWxlRGF0YS5ieXRlTGVuZ3RoIC0gcG9zaXRpb24sIE1BWF9QQVlMT0FEX1NJWkUpOwogICAgICBjb25zdCBjaHVuayA9IG5ldyBVaW50OEFycmF5KGZpbGVEYXRhLCBwb3NpdGlvbiwgbGVuZ3RoKTsKICAgICAgcG9zaXRpb24gKz0gbGVuZ3RoOwoKICAgICAgY29uc3QgYmFzZTY0ID0gYnRvYShTdHJpbmcuZnJvbUNoYXJDb2RlLmFwcGx5KG51bGwsIGNodW5rKSk7CiAgICAgIHlpZWxkIHsKICAgICAgICByZXNwb25zZTogewogICAgICAgICAgYWN0aW9uOiAnYXBwZW5kJywKICAgICAgICAgIGZpbGU6IGZpbGUubmFtZSwKICAgICAgICAgIGRhdGE6IGJhc2U2NCwKICAgICAgICB9LAogICAgICB9OwogICAgICBwZXJjZW50LnRleHRDb250ZW50ID0KICAgICAgICAgIGAke01hdGgucm91bmQoKHBvc2l0aW9uIC8gZmlsZURhdGEuYnl0ZUxlbmd0aCkgKiAxMDApfSUgZG9uZWA7CiAgICB9CiAgfQoKICAvLyBBbGwgZG9uZS4KICB5aWVsZCB7CiAgICByZXNwb25zZTogewogICAgICBhY3Rpb246ICdjb21wbGV0ZScsCiAgICB9CiAgfTsKfQoKc2NvcGUuZ29vZ2xlID0gc2NvcGUuZ29vZ2xlIHx8IHt9OwpzY29wZS5nb29nbGUuY29sYWIgPSBzY29wZS5nb29nbGUuY29sYWIgfHwge307CnNjb3BlLmdvb2dsZS5jb2xhYi5fZmlsZXMgPSB7CiAgX3VwbG9hZEZpbGVzLAogIF91cGxvYWRGaWxlc0NvbnRpbnVlLAp9Owp9KShzZWxmKTsK",
              "ok": true,
              "headers": [
                [
                  "content-type",
                  "application/javascript"
                ]
              ],
              "status": 200,
              "status_text": ""
            }
          },
          "base_uri": "https://localhost:8080/",
          "height": 311
        },
        "id": "UsAWC-MkHnrr",
        "outputId": "ec0c8e41-13a7-4caf-d653-af3bce4d839c"
      },
      "source": [
        "from google.colab import files\n",
        "uploaded = files.upload()\n",
        "!pip install git+https://github.com/tensorflow/docs\n",
        "!pip install tokenizers"
      ],
      "execution_count": 24,
      "outputs": [
        {
          "output_type": "display_data",
          "data": {
            "text/html": [
              "\n",
              "     <input type=\"file\" id=\"files-8f98b662-bade-43e5-b18e-4c2d233fa29a\" name=\"files[]\" multiple disabled\n",
              "        style=\"border:none\" />\n",
              "     <output id=\"result-8f98b662-bade-43e5-b18e-4c2d233fa29a\">\n",
              "      Upload widget is only available when the cell has been executed in the\n",
              "      current browser session. Please rerun this cell to enable.\n",
              "      </output>\n",
              "      <script src=\"/nbextensions/google.colab/files.js\"></script> "
            ],
            "text/plain": [
              "<IPython.core.display.HTML object>"
            ]
          },
          "metadata": {
            "tags": []
          }
        },
        {
          "output_type": "stream",
          "text": [
            "Collecting git+https://github.com/tensorflow/docs\n",
            "  Cloning https://github.com/tensorflow/docs to /tmp/pip-req-build-h3uz1cw4\n",
            "  Running command git clone -q https://github.com/tensorflow/docs /tmp/pip-req-build-h3uz1cw4\n",
            "Requirement already satisfied (use --upgrade to upgrade): tensorflow-docs===0.0.04df4b1d50e0016b80ca295e2117b92757c8040ed- from git+https://github.com/tensorflow/docs in /usr/local/lib/python3.7/dist-packages\n",
            "Requirement already satisfied: astor in /usr/local/lib/python3.7/dist-packages (from tensorflow-docs===0.0.04df4b1d50e0016b80ca295e2117b92757c8040ed-) (0.8.1)\n",
            "Requirement already satisfied: absl-py in /usr/local/lib/python3.7/dist-packages (from tensorflow-docs===0.0.04df4b1d50e0016b80ca295e2117b92757c8040ed-) (0.12.0)\n",
            "Requirement already satisfied: protobuf>=3.14 in /usr/local/lib/python3.7/dist-packages (from tensorflow-docs===0.0.04df4b1d50e0016b80ca295e2117b92757c8040ed-) (3.16.0)\n",
            "Requirement already satisfied: pyyaml in /usr/local/lib/python3.7/dist-packages (from tensorflow-docs===0.0.04df4b1d50e0016b80ca295e2117b92757c8040ed-) (3.13)\n",
            "Requirement already satisfied: six in /usr/local/lib/python3.7/dist-packages (from absl-py->tensorflow-docs===0.0.04df4b1d50e0016b80ca295e2117b92757c8040ed-) (1.15.0)\n",
            "Building wheels for collected packages: tensorflow-docs\n",
            "  Building wheel for tensorflow-docs (setup.py) ... \u001b[?25l\u001b[?25hdone\n",
            "  Created wheel for tensorflow-docs: filename=tensorflow_docs-0.0.04df4b1d50e0016b80ca295e2117b92757c8040ed_-cp37-none-any.whl size=150907 sha256=74a0baed31773e0f69dbf9b4ed2fb0dba787f5a09aed5a8d0ffba92984d16cab\n",
            "  Stored in directory: /tmp/pip-ephem-wheel-cache-uil1a2u8/wheels/eb/1b/35/fce87697be00d2fc63e0b4b395b0d9c7e391a10e98d9a0d97f\n",
            "Successfully built tensorflow-docs\n",
            "Requirement already satisfied: tokenizers in /usr/local/lib/python3.7/dist-packages (0.10.2)\n"
          ],
          "name": "stdout"
        }
      ]
    },
    {
      "cell_type": "code",
      "metadata": {
        "id": "xk85RZS-v9BA",
        "colab": {
          "base_uri": "https://localhost:8080/"
        },
        "outputId": "24c11446-8e3c-4026-d9b7-b9dfd561a926"
      },
      "source": [
        "#https://stackoverflow.com/questions/43697240/how-can-i-split-a-dataset-from-a-csv-file-for-training-and-testing\n",
        "\n",
        "\n",
        "from sklearn.model_selection import train_test_split\n",
        "import numpy as np\n",
        "from numpy import genfromtxt\n",
        "from tensorflow import keras\n",
        "from tensorflow.keras import layers\n",
        "import pandas as pd\n",
        "\n",
        "\n",
        "#loading in file, removing header\n",
        "df = np.loadtxt('clean_aug_train.csv', delimiter= \",\" , skiprows=1)\n",
        "\n",
        "#print (df.shape)\n",
        "df[0:5, :]\n",
        "\n",
        "#saving target values\n",
        "y_true = df[:,2]\n",
        "\n",
        "#removing target values from file\n",
        "df = np.delete(df, 2, 1)\n",
        "\n",
        "#using stratify to try to equally distribute based off target column of clean csv\n",
        "#shuffle csv and split so train gets 85 percent, test 15\n",
        "x_train, test_df, y_train, y_test = train_test_split(df, y_true,\n",
        "                                                    test_size = 0.15,\n",
        "                                                    stratify = y_true,\n",
        "                                                    random_state = 42,\n",
        "                                                    shuffle = True)\n",
        "\n",
        "train_df, cv_df,  y_train, y_cv = train_test_split(x_train, y_train,\n",
        "                                                    test_size = 0.15,\n",
        "                                                    stratify =y_train,\n",
        "                                                    random_state = 42,\n",
        "                                                    shuffle = True)\n",
        "#train variables\n",
        "train_df.shape\n",
        "y_train.shape\n",
        "\n",
        "#cv variables\n",
        "cv_df.shape\n",
        "y_cv.shape\n",
        "\n"
      ],
      "execution_count": 25,
      "outputs": [
        {
          "output_type": "execute_result",
          "data": {
            "text/plain": [
              "(2443,)"
            ]
          },
          "metadata": {
            "tags": []
          },
          "execution_count": 25
        }
      ]
    },
    {
      "cell_type": "code",
      "metadata": {
        "id": "2BkmCv_xX8B8",
        "colab": {
          "base_uri": "https://localhost:8080/",
          "height": 265
        },
        "outputId": "f1a9152e-2f94-4013-b4b9-8a720aa6c1d0"
      },
      "source": [
        "import matplotlib.pyplot as plt\n",
        "\n",
        "plt.hist(train_df[:, 0])\n",
        "plt.ylabel('0th column')\n",
        "plt.show()\n"
      ],
      "execution_count": 26,
      "outputs": [
        {
          "output_type": "display_data",
          "data": {
            "image/png": "[encoded data removed]",
            "text/plain": [
              "<Figure size 432x288 with 1 Axes>"
            ]
          },
          "metadata": {
            "tags": [],
            "needs_background": "light"
          }
        }
      ]
    },
    {
      "cell_type": "code",
      "metadata": {
        "colab": {
          "base_uri": "https://localhost:8080/",
          "height": 513
        },
        "id": "xp_DhlNvbsJE",
        "outputId": "f5aae10f-767a-4c48-c399-b35f0e3f57ec"
      },
      "source": [
        "import matplotlib.pyplot as plt\n",
        "\n",
        "plt.hist(y_train)\n",
        "plt.ylabel('y Train')\n",
        "plt.show()\n",
        "\n",
        "import matplotlib.pyplot as plt\n",
        "\n",
        "plt.hist(y_cv)\n",
        "plt.ylabel('0th column')\n",
        "plt.show()"
      ],
      "execution_count": 27,
      "outputs": [
        {
          "output_type": "display_data",
          "data": {
            "image/png": "[encoded data removed]",
            "text/plain": [
              "<Figure size 432x288 with 1 Axes>"
            ]
          },
          "metadata": {
            "tags": [],
            "needs_background": "light"
          }
        },
        {
          "output_type": "display_data",
          "data": {
            "image/png": "[encoded data removed]",
            "text/plain": [
              "<Figure size 432x288 with 1 Axes>"
            ]
          },
          "metadata": {
            "tags": [],
            "needs_background": "light"
          }
        }
      ]
    },
    {
      "cell_type": "code",
      "metadata": {
        "colab": {
          "base_uri": "https://localhost:8080/",
          "height": 685
        },
        "id": "a348XPejcVk5",
        "outputId": "162586e5-9349-403c-ea53-7b392750788a"
      },
      "source": [
        "#standardization\n",
        "mean = train_df.mean(axis = 0)\n",
        "\n",
        "train_df -= mean\n",
        "std = train_df.std(axis = 0)\n",
        "train_df/=std\n",
        "\n",
        "cv_df -= mean\n",
        "cv_df /=std\n",
        "\n",
        "print (mean)\n",
        "print (std)\n",
        "\n",
        "\n",
        "plt.hist(train_df[:, 0])\n",
        "plt.ylabel('0th column')\n",
        "plt.show()\n"
      ],
      "execution_count": 28,
      "outputs": [
        {
          "output_type": "stream",
          "text": [
            "[8.29559610e-01 6.48231214e+01 6.35838150e-02 6.90390173e-01\n",
            " 1.09826590e-02 7.20447977e-01 2.79552023e-01 1.95953757e-01\n",
            " 6.34393064e-02 7.20447977e-01 6.01372832e-01 2.27312139e-01\n",
            " 1.24060694e-01 2.27601156e-02 3.43930636e-02 1.19219653e-02\n",
            " 4.77601156e-02 7.55924855e-01 2.83236994e-02 5.11560694e-02\n",
            " 3.49710983e-02 2.52890173e-02 2.09537572e-02 3.20809249e-02\n",
            " 3.57658960e-02 2.57225434e-02 1.77023121e-02 1.43786127e-02\n",
            " 1.54624277e-02 5.91040462e-02 7.58670520e-03 6.95086705e-02\n",
            " 7.40606936e-02 7.31936416e-02 6.43786127e-02 5.41907514e-02\n",
            " 4.17630058e-02 5.13005780e-02 2.68063584e-02 1.72832370e-01\n",
            " 1.34393064e-01 6.90028902e-02 1.07803468e-01 1.60332370e-01\n",
            " 4.54479769e-02 2.86849711e-02 6.96531792e-02 7.68063584e-02\n",
            " 3.09971098e-02 5.37572254e-02 2.71676301e-02 6.64739884e-03\n",
            " 5.24566474e-02 5.11199422e-01 4.15462428e-01 1.51011561e-01\n",
            " 5.33959538e-02 5.61416185e-02 1.71965318e-01 1.29768786e-01]\n",
            "[ 0.12301985 59.4003738   0.24401007  0.46233276  0.10422111  0.44877911\n",
            "  0.44877911  0.3969331   0.24375143  0.44877911  0.48961572  0.41909585\n",
            "  0.32965078  0.14913783  0.18223661  0.10853493  0.21325826  0.42953751\n",
            "  0.16589595  0.22031597  0.18370662  0.15700154  0.14322953  0.17621504\n",
            "  0.18570594  0.15830633  0.13186713  0.11904566  0.1233829   0.23581933\n",
            "  0.08677066  0.25431715  0.26186964  0.26045409  0.24542617  0.22639371\n",
            "  0.20004714  0.22061013  0.16151711  0.37810229  0.34107414  0.25345905\n",
            "  0.31013204  0.36691402  0.20828456  0.16691957  0.25456161  0.26628395\n",
            "  0.17330981  0.22553799  0.16257168  0.08126014  0.22294606  0.49987456\n",
            "  0.49280158  0.35806015  0.22482176  0.230195    0.3773503   0.33604888]\n"
          ],
          "name": "stdout"
        },
        {
          "output_type": "display_data",
          "data": {
            "image/png": "[encoded data removed]",
            "text/plain": [
              "<Figure size 432x288 with 1 Axes>"
            ]
          },
          "metadata": {
            "tags": [],
            "needs_background": "light"
          }
        }
      ]
    },
    {
      "cell_type": "code",
      "metadata": {
        "colab": {
          "base_uri": "https://localhost:8080/"
        },
        "id": "3K-DB-ZVejR-",
        "outputId": "02ec59b5-5ffe-4031-b774-88b7445f8068"
      },
      "source": [
        "#review dimensions\n",
        "print (train_df.shape)\n",
        "print (y_train.shape)\n",
        "\n",
        "print(cv_df.shape)\n",
        "print(y_cv.shape)\n",
        "\n",
        "print(train_df[0:3,])\n",
        "print(y_train[0:3])\n",
        "\n",
        "print(cv_df[0:3,])\n",
        "print(y_cv[0:3])"
      ],
      "execution_count": 29,
      "outputs": [
        {
          "output_type": "stream",
          "text": [
            "(13840, 60)\n",
            "(13840,)\n",
            "(2443, 60)\n",
            "(2443,)\n",
            "[[ 0.78394173  0.05348247 -0.26057865 -1.49327548 -0.10537845 -1.60535096\n",
            "   1.60535096  2.02564677 -0.26026229 -1.60535096  0.81416334 -0.542387\n",
            "  -0.37633975 -0.15261128 -0.18872752 -0.1098445  -0.22395435  0.56822778\n",
            "  -0.17073171 -0.23219411 -0.19036385 -0.16107497 -0.14629496 -0.18205555\n",
            "  -0.19259425 -0.16248588 -0.13424355 -0.12078234 -0.12532067 -0.25063274\n",
            "  -0.08743399 -0.27331491  3.53587882 -0.2810232  -0.26231356 -0.23936509\n",
            "  -0.20876583 -0.23253954 -0.16596606 -0.4571048  -0.39402889 -0.27224473\n",
            "   2.87682801 -0.43697531 -0.21820137 -0.17184906 -0.27362012 -0.28843781\n",
            "  -0.17885376 -0.23835109  5.98402128 -0.08180393 -0.23528851 -1.02265541\n",
            "   1.18615198 -0.42174914 -0.23750349 -0.24388722 -0.45571799 -0.38616045]\n",
            " [ 0.73516911 -1.02395183 -0.26057865  0.6696688  -0.10537845  0.62291675\n",
            "  -0.62291675 -0.49366949 -0.26026229  0.62291675 -1.22825476  1.84370202\n",
            "  -0.37633975 -0.15261128 -0.18872752 -0.1098445  -0.22395435  0.56822778\n",
            "  -0.17073171 -0.23219411 -0.19036385 -0.16107497 -0.14629496 -0.18205555\n",
            "   5.19226309 -0.16248588 -0.13424355 -0.12078234 -0.12532067 -0.25063274\n",
            "  -0.08743399 -0.27331491 -0.28281512 -0.2810232  -0.26231356 -0.23936509\n",
            "  -0.20876583 -0.23253954 -0.16596606 -0.4571048   2.53788499 -0.27224473\n",
            "  -0.34760507 -0.43697531 -0.21820137 -0.17184906 -0.27362012 -0.28843781\n",
            "  -0.17885376 -0.23835109 -0.16711171 -0.08180393 -0.23528851  0.97784648\n",
            "  -0.84306229  2.37107772 -0.23750349 -0.24388722 -0.45571799 -0.38616045]\n",
            " [-1.67094675 -0.28321575 -0.26057865  0.6696688  -0.10537845  0.62291675\n",
            "  -0.62291675 -0.49366949 -0.26026229  0.62291675  0.81416334 -0.542387\n",
            "  -0.37633975 -0.15261128 -0.18872752 -0.1098445  -0.22395435  0.56822778\n",
            "  -0.17073171 -0.23219411 -0.19036385 -0.16107497 -0.14629496 -0.18205555\n",
            "  -0.19259425 -0.16248588 -0.13424355 -0.12078234 -0.12532067 -0.25063274\n",
            "  -0.08743399 -0.27331491 -0.28281512 -0.2810232  -0.26231356 -0.23936509\n",
            "   4.79005602 -0.23253954 -0.16596606 -0.4571048  -0.39402889 -0.27224473\n",
            "   2.87682801 -0.43697531 -0.21820137 -0.17184906 -0.27362012 -0.28843781\n",
            "  -0.17885376 -0.23835109 -0.16711171 -0.08180393 -0.23528851  0.97784648\n",
            "   1.18615198 -0.42174914 -0.23750349 -0.24388722 -0.45571799 -0.38616045]]\n",
            "[0. 0. 1.]\n",
            "[[ 0.65388141 -0.85560272 -0.26057865  0.6696688  -0.10537845  0.62291675\n",
            "  -0.62291675 -0.49366949  3.8422777  -1.60535096  0.81416334 -0.542387\n",
            "  -0.37633975 -0.15261128 -0.18872752 -0.1098445  -0.22395435  0.56822778\n",
            "  -0.17073171 -0.23219411 -0.19036385 -0.16107497 -0.14629496 -0.18205555\n",
            "  -0.19259425 -0.16248588 -0.13424355 -0.12078234 -0.12532067 -0.25063274\n",
            "  -0.08743399 -0.27331491 -0.28281512 -0.2810232  -0.26231356 -0.23936509\n",
            "  -0.20876583 -0.23253954 -0.16596606  2.18768215 -0.39402889 -0.27224473\n",
            "  -0.34760507  2.28845881 -0.21820137 -0.17184906 -0.27362012 -0.28843781\n",
            "  -0.17885376 -0.23835109 -0.16711171 -0.08180393 -0.23528851  0.97784648\n",
            "  -0.84306229 -0.42174914  4.21046444 -0.24388722 -0.45571799 -0.38616045]\n",
            " [ 0.73516911 -0.16537137  3.83761289 -1.49327548 -0.10537845  0.62291675\n",
            "  -0.62291675 -0.49366949 -0.26026229  0.62291675  0.81416334 -0.542387\n",
            "  -0.37633975 -0.15261128 -0.18872752 -0.1098445  -0.22395435  0.56822778\n",
            "  -0.17073171 -0.23219411 -0.19036385 -0.16107497 -0.14629496 -0.18205555\n",
            "  -0.19259425 -0.16248588 -0.13424355 -0.12078234 -0.12532067 -0.25063274\n",
            "  -0.08743399 -0.27331491 -0.28281512 -0.2810232  -0.26231356 -0.23936509\n",
            "  -0.20876583  4.30034391 -0.16596606 -0.4571048  -0.39402889 -0.27224473\n",
            "  -0.34760507 -0.43697531 -0.21820137 -0.17184906 -0.27362012 -0.28843781\n",
            "  -0.17885376 -0.23835109 -0.16711171 -0.08180393 -0.23528851 -1.02265541\n",
            "  -0.84306229  2.37107772 -0.23750349 -0.24388722 -0.45571799 -0.38616045]\n",
            " [ 0.73516911  0.12082211 -0.26057865  0.6696688  -0.10537845  0.62291675\n",
            "  -0.62291675 -0.49366949 -0.26026229  0.62291675  0.81416334 -0.542387\n",
            "  -0.37633975 -0.15261128 -0.18872752 -0.1098445   4.46519571 -1.75985763\n",
            "  -0.17073171 -0.23219411 -0.19036385 -0.16107497 -0.14629496 -0.18205555\n",
            "  -0.19259425 -0.16248588 -0.13424355 -0.12078234 -0.12532067 -0.25063274\n",
            "  -0.08743399 -0.27331491 -0.28281512  3.55842507 -0.26231356 -0.23936509\n",
            "  -0.20876583 -0.23253954 -0.16596606 -0.4571048  -0.39402889 -0.27224473\n",
            "  -0.34760507 -0.43697531 -0.21820137 -0.17184906 -0.27362012 -0.28843781\n",
            "  -0.17885376 -0.23835109 -0.16711171 -0.08180393 -0.23528851 -1.02265541\n",
            "  -0.84306229  2.37107772 -0.23750349 -0.24388722 -0.45571799 -0.38616045]]\n",
            "[0. 1. 0.]\n"
          ],
          "name": "stdout"
        }
      ]
    },
    {
      "cell_type": "code",
      "metadata": {
        "colab": {
          "base_uri": "https://localhost:8080/"
        },
        "id": "IKB_aOSifl5a",
        "outputId": "69185b60-d560-4d7b-a5e5-88290102ea53"
      },
      "source": [
        "#building nn model\n",
        "from keras.models import Sequential \n",
        "from keras.layers import Dense\n",
        "\n",
        "model = Sequential()\n",
        "\n",
        "#Output Layer\n",
        "    \n",
        "model.add(Dense(8, input_dim = len(train_df[0,:]), activation = 'relu'))\n",
        "model.add(Dense(4, activation='relu'))\n",
        "model.add(Dense(1, activation= 'sigmoid'))\n",
        "#model.add(Dense(1, activation='softmax'))\n",
        "print(model.summary())\n"
      ],
      "execution_count": 30,
      "outputs": [
        {
          "output_type": "stream",
          "text": [
            "Model: \"sequential_2\"\n",
            "_________________________________________________________________\n",
            "Layer (type)                 Output Shape              Param #   \n",
            "=================================================================\n",
            "dense_3 (Dense)              (None, 8)                 488       \n",
            "_________________________________________________________________\n",
            "dense_4 (Dense)              (None, 4)                 36        \n",
            "_________________________________________________________________\n",
            "dense_5 (Dense)              (None, 1)                 5         \n",
            "=================================================================\n",
            "Total params: 529\n",
            "Trainable params: 529\n",
            "Non-trainable params: 0\n",
            "_________________________________________________________________\n",
            "None\n"
          ],
          "name": "stdout"
        }
      ]
    },
    {
      "cell_type": "code",
      "metadata": {
        "id": "WFGYsb3di4U2"
      },
      "source": [
        "#compile\n",
        "model.compile(loss= 'binary_crossentropy', optimizer='rmsprop', metrics = ['accuracy'] )"
      ],
      "execution_count": 31,
      "outputs": []
    },
    {
      "cell_type": "code",
      "metadata": {
        "id": "sjAvSeotj2tj"
      },
      "source": [
        "#train model\n",
        "from keras.callbacks import EarlyStopping, ModelCheckpoint\n",
        "\n",
        "\n",
        "callback_a = ModelCheckpoint(filepath = 'my_best_model.hdf5', monitor = 'val_loss', save_best_only = True, save_weights_only=True)\n",
        "callback_b = EarlyStopping(monitor= 'val_loss', mode = 'min', patience= 20)"
      ],
      "execution_count": 32,
      "outputs": []
    },
    {
      "cell_type": "code",
      "metadata": {
        "colab": {
          "base_uri": "https://localhost:8080/"
        },
        "id": "Pcr-0uVOlM2e",
        "outputId": "7980c96e-783b-4a73-a8a0-ce18ffc9592d"
      },
      "source": [
        "\n",
        "history = model.fit(train_df, y_train, validation_data = (cv_df, y_cv), epochs= 256, batch_size = 10, callbacks=[callback_a, callback_b])"
      ],
      "execution_count": 33,
      "outputs": [
        {
          "output_type": "stream",
          "text": [
            "Epoch 1/256\n",
            "1384/1384 [==============================] - 3s 1ms/step - loss: 0.5575 - accuracy: 0.7438 - val_loss: 0.4875 - val_accuracy: 0.7556\n",
            "Epoch 2/256\n",
            "1384/1384 [==============================] - 2s 1ms/step - loss: 0.4921 - accuracy: 0.7533 - val_loss: 0.4687 - val_accuracy: 0.7732\n",
            "Epoch 3/256\n",
            "1384/1384 [==============================] - 2s 1ms/step - loss: 0.4818 - accuracy: 0.7679 - val_loss: 0.4671 - val_accuracy: 0.7650\n",
            "Epoch 4/256\n",
            "1384/1384 [==============================] - 2s 1ms/step - loss: 0.4810 - accuracy: 0.7734 - val_loss: 0.4620 - val_accuracy: 0.7646\n",
            "Epoch 5/256\n",
            "1384/1384 [==============================] - 2s 1ms/step - loss: 0.4675 - accuracy: 0.7758 - val_loss: 0.4586 - val_accuracy: 0.7720\n",
            "Epoch 6/256\n",
            "1384/1384 [==============================] - 2s 1ms/step - loss: 0.4630 - accuracy: 0.7771 - val_loss: 0.4579 - val_accuracy: 0.7736\n",
            "Epoch 7/256\n",
            "1384/1384 [==============================] - 2s 1ms/step - loss: 0.4625 - accuracy: 0.7850 - val_loss: 0.4561 - val_accuracy: 0.7728\n",
            "Epoch 8/256\n",
            "1384/1384 [==============================] - 2s 1ms/step - loss: 0.4650 - accuracy: 0.7817 - val_loss: 0.4556 - val_accuracy: 0.7716\n",
            "Epoch 9/256\n",
            "1384/1384 [==============================] - 2s 1ms/step - loss: 0.4601 - accuracy: 0.7825 - val_loss: 0.4568 - val_accuracy: 0.7687\n",
            "Epoch 10/256\n",
            "1384/1384 [==============================] - 2s 1ms/step - loss: 0.4615 - accuracy: 0.7791 - val_loss: 0.4563 - val_accuracy: 0.7687\n",
            "Epoch 11/256\n",
            "1384/1384 [==============================] - 2s 1ms/step - loss: 0.4627 - accuracy: 0.7830 - val_loss: 0.4573 - val_accuracy: 0.7675\n",
            "Epoch 12/256\n",
            "1384/1384 [==============================] - 2s 1ms/step - loss: 0.4599 - accuracy: 0.7877 - val_loss: 0.4582 - val_accuracy: 0.7675\n",
            "Epoch 13/256\n",
            "1384/1384 [==============================] - 2s 1ms/step - loss: 0.4534 - accuracy: 0.7866 - val_loss: 0.4582 - val_accuracy: 0.7700\n",
            "Epoch 14/256\n",
            "1384/1384 [==============================] - 2s 1ms/step - loss: 0.4575 - accuracy: 0.7843 - val_loss: 0.4575 - val_accuracy: 0.7695\n",
            "Epoch 15/256\n",
            "1384/1384 [==============================] - 2s 1ms/step - loss: 0.4588 - accuracy: 0.7863 - val_loss: 0.4566 - val_accuracy: 0.7700\n",
            "Epoch 16/256\n",
            "1384/1384 [==============================] - 2s 1ms/step - loss: 0.4523 - accuracy: 0.7895 - val_loss: 0.4570 - val_accuracy: 0.7716\n",
            "Epoch 17/256\n",
            "1384/1384 [==============================] - 2s 1ms/step - loss: 0.4624 - accuracy: 0.7810 - val_loss: 0.4566 - val_accuracy: 0.7716\n",
            "Epoch 18/256\n",
            "1384/1384 [==============================] - 2s 1ms/step - loss: 0.4559 - accuracy: 0.7849 - val_loss: 0.4575 - val_accuracy: 0.7704\n",
            "Epoch 19/256\n",
            "1384/1384 [==============================] - 2s 1ms/step - loss: 0.4619 - accuracy: 0.7850 - val_loss: 0.4577 - val_accuracy: 0.7695\n",
            "Epoch 20/256\n",
            "1384/1384 [==============================] - 2s 1ms/step - loss: 0.4583 - accuracy: 0.7826 - val_loss: 0.4582 - val_accuracy: 0.7679\n",
            "Epoch 21/256\n",
            "1384/1384 [==============================] - 2s 1ms/step - loss: 0.4540 - accuracy: 0.7860 - val_loss: 0.4590 - val_accuracy: 0.7695\n",
            "Epoch 22/256\n",
            "1384/1384 [==============================] - 2s 1ms/step - loss: 0.4597 - accuracy: 0.7862 - val_loss: 0.4598 - val_accuracy: 0.7716\n",
            "Epoch 23/256\n",
            "1384/1384 [==============================] - 2s 1ms/step - loss: 0.4649 - accuracy: 0.7797 - val_loss: 0.4605 - val_accuracy: 0.7712\n",
            "Epoch 24/256\n",
            "1384/1384 [==============================] - 2s 1ms/step - loss: 0.4534 - accuracy: 0.7832 - val_loss: 0.4603 - val_accuracy: 0.7712\n",
            "Epoch 25/256\n",
            "1384/1384 [==============================] - 2s 1ms/step - loss: 0.4544 - accuracy: 0.7839 - val_loss: 0.4596 - val_accuracy: 0.7691\n",
            "Epoch 26/256\n",
            "1384/1384 [==============================] - 2s 1ms/step - loss: 0.4574 - accuracy: 0.7816 - val_loss: 0.4618 - val_accuracy: 0.7683\n",
            "Epoch 27/256\n",
            "1384/1384 [==============================] - 2s 1ms/step - loss: 0.4503 - accuracy: 0.7837 - val_loss: 0.4606 - val_accuracy: 0.7659\n",
            "Epoch 28/256\n",
            "1384/1384 [==============================] - 2s 1ms/step - loss: 0.4569 - accuracy: 0.7823 - val_loss: 0.4619 - val_accuracy: 0.7679\n"
          ],
          "name": "stdout"
        }
      ]
    },
    {
      "cell_type": "markdown",
      "metadata": {
        "id": "mbXL_n0NTUCs"
      },
      "source": [
        "\n",
        "\n",
        "BELOW IS MY ATTEMPT TO USE CROSS VALIDATION. I WAS UNABLE TO GET IT TO WORK SO THIS HAS BEEN SCRAPPED"
      ]
    },
    {
      "cell_type": "code",
      "metadata": {
        "id": "7oWhkD-Y8B48",
        "colab": {
          "base_uri": "https://localhost:8080/"
        },
        "outputId": "dea5ea84-664e-41b8-ea93-08a2b8220da7"
      },
      "source": [
        "#CROSS VALIDATION ATTEMPT\n",
        "\n",
        "import numpy as np\n",
        "import pandas as pd\n",
        "import seaborn as sns\n",
        "import matplotlib.pyplot as plt\n",
        "%matplotlib inline\n",
        "\n",
        "url = \"https://media.githubusercontent.com/media/n-edmond/Neural_Networks/main/aug_train.csv\"\n",
        "dataset = pd.read_csv(url)\n",
        "dataset.head(2)\n",
        "dataset.describe(include = 'all')\n",
        "\n",
        "# code tutorial from https://www.youtube.com/watch?v=lFRuAAxkz7A&t=242s\n",
        "\n",
        "\n",
        "from sklearn.preprocessing import LabelEncoder\n",
        "le = LabelEncoder()\n",
        "y=le.fit_transform(dataset['target'])\n",
        "y\n",
        "\n",
        "from keras.utils import to_categorical\n",
        "output_category = to_categorical(y, num_classes=None)\n",
        "output_category\n",
        "\n",
        "\n",
        "dataset_1= pd.get_dummies(dataset, \n",
        "                          columns=['gender','relevent_experience','enrolled_university', 'education_level', 'major_discipline', 'experience',\n",
        "                                   'experience','company_size','company_type','last_new_job','training_hours'],\n",
        "                          prefix= ['gender','relevent_experience','enrolled_university', 'education_level', 'major_discipline', 'experience',\n",
        "                                   'experience','company_size','company_type','last_new_job','training_hours'])\n",
        "dataset_1.head(2)\n",
        "\n",
        "\n",
        "# creating input features\n",
        "X = dataset_1.iloc[:,[1,2,3,4,5,6,7,8,9,10,11,12,13,14,15,16,17, 18, 19, 20]]\n",
        "\n",
        "#standardizing the input feature\n",
        "from sklearn.preprocessing import StandardScaler\n",
        "sc= StandardScaler()\n",
        "X= sc.fit_transform(X)\n",
        "X\n",
        "\n",
        "from sklearn.model_selection import train_test_split\n",
        "X_train, X_test, y_train, y_test = train_test_split(X, output_category, test_size=0.15)\n",
        "\n",
        "\n",
        "#builing the neural net\n",
        "from keras import Sequential\n",
        "from keras.layers import Dense\n",
        "from keras.layers import Dropout\n",
        "from keras.wrappers.scikit_learn import KerasClassifier\n",
        "from sklearn.model_selection import cross_val_score\n",
        "\n",
        "# K fold validation\n",
        "def build_classifier():\n",
        "    classifier = Sequential()\n",
        "    #First Hidden Layer\n",
        "    classifier.add(Dense(8, activation='relu', kernel_initializer='random_uniform', input_dim=13))\n",
        "    \n",
        "    #Second  Hidden Layer\n",
        "    classifier.add(Dense(8, activation='relu', kernel_initializer='random_uniform'))\n",
        "    #Output Layer\n",
        "    classifier.add(Dense(4, activation='softmax', kernel_initializer='random_uniform'))\n",
        "    #Compiling the neural network\n",
        "    classifier.compile(optimizer ='adam',loss='categorical_crossentropy', metrics =['accuracy'])\n",
        "    return classifier\n",
        "\n",
        "classifier = KerasClassifier(build_fn=build_classifier, batch_size=10, nb_epoch=150)\n",
        "#saving acuracies\n",
        "accuracies =  cross_val_score(estimator=classifier, X= X, y=output_category,cv=10, n_jobs=-1)\n",
        "#display vals\n",
        "accuracies\n",
        "#print meand and std\n",
        "print(accuracies.mean())\n",
        "print(accuracies.std())"
      ],
      "execution_count": 35,
      "outputs": [
        {
          "output_type": "stream",
          "text": [
            "nan\n",
            "nan\n"
          ],
          "name": "stdout"
        }
      ]
    }
  ]
}